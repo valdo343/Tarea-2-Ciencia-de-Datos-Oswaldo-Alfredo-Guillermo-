{
 "cells": [
  {
   "cell_type": "code",
   "execution_count": null,
   "id": "b7ec2163",
   "metadata": {},
   "outputs": [],
   "source": [
    "from compare_classfiers import SimulationRunner\n",
    "\n",
    "escenarios = [\"lda_optimo\", \"qda_optimo\", \"desbalance\", \"correlacion_fuerte\"]\n",
    "runner = SimulationRunner(escenarios,\n",
    "                            n_list=[50,100,200,500],\n",
    "                            k_list=[1,3,5,11,21],\n",
    "                            R=20)\n",
    "runner.run()\n",
    "runner.save_csv(\"resultados_tarea3.csv\")"
   ]
  }
 ],
 "metadata": {
  "kernelspec": {
   "display_name": "Python 3",
   "language": "python",
   "name": "python3"
  },
  "language_info": {
   "codemirror_mode": {
    "name": "ipython",
    "version": 3
   },
   "file_extension": ".py",
   "mimetype": "text/x-python",
   "name": "python",
   "nbconvert_exporter": "python",
   "pygments_lexer": "ipython3",
   "version": "3.13.2"
  }
 },
 "nbformat": 4,
 "nbformat_minor": 5
}
